{
 "cells": [
  {
   "cell_type": "code",
   "execution_count": 2,
   "id": "6719ac12",
   "metadata": {},
   "outputs": [],
   "source": [
    "import psycopg2"
   ]
  },
  {
   "cell_type": "code",
   "execution_count": 25,
   "id": "512b9ef6",
   "metadata": {},
   "outputs": [],
   "source": [
    "# conn = psycopg2.connect(DB)\n",
    "\n",
    "conn = psycopg2.connect(database = \"tfalrovx\", \n",
    "        user = \"tfalrovx\", \n",
    "        host= 'rogue.db.elephantsql.com',\n",
    "        password = \"9h9Cz-Nruy-4mBR9AMVTEOoGAQwGGYh1\",\n",
    "        )"
   ]
  },
  {
   "cell_type": "code",
   "execution_count": 31,
   "id": "55b996b2",
   "metadata": {},
   "outputs": [],
   "source": [
    "test_url = \"\"\"data:image/png;base64,iVBORw0KGgoAAAANSUhEUgAAAcIAAAHCCAYAAAB8GMlFAAAAAXNSR0IArs4c6QAAIABJREFUeF7tnQf4NkV1t3\n",
    "+Bl14FBQFRsaNi78aGNUa/IBpjIxp7D2psMYoajSVG9IstsfeuiRoTlWA0lqjBAtgNNkClSREB0S/fHrJPHIbdfXb32d1p91yXl/r+Z2fOuc/M/p6ZnfI7IkEAAhCAAAQKJvA7BfuO6xCAAAQgAAEhhDQCCEAAAssQOEKS/cd/7/IeXoZ/ay0EIHAAqB4CEMiWwAMkvaVB+HyHeQ8HbgIEIHAAqB4CEMiGwPUkHSNpq4Ee8R4eCGzq7ARgaqKUBwEIlETgQklbNnCYd/AG8KZ6lCBMRZJyIACBEgj8qha+Ie/O/67B+M9cWdIJJUCL3cchwYzdF+yDAAQgMDWB8yRt1+M7n1uvCd+XJd2o/sffNEyX2hTq6u9T20x5AwkghAOBkR0CEMiawLmSdhghfD+WdICk/+fROUvSrt6//VLSTllTTMw5hDCxgGEuBCAwKQETql1GCN+ZkvaRdEGHNR+QdA/v7zZaHLqYZlKHKeySBBBCWgUEIFASgdMlXWqE8J0vaS9Jv+gJa9sGkUQEe8JbOhtCuDRx6oMABJYk8BNJe48Qvl/Xz/18pLGrBTKrxxHBkSCXeAwhXIIydUAAAksR+IGkyw8UPrPNFrTsK+mUCQy174ScHjMByKWKQAiXIk09EIDAHAS+KenqI4TPxOr6ko6d2ChEcGKgSxSHEC5BmTogAIGpCHyx3nYw9N1lU5PPqf8zlS1+OU3bJF4q6UlzVUi50xAY2pimqZVSIAABCPQj8HFJdxgx4jPh+7CkP+hXzca57Fvi7l4pP61Xlm5cOAXMSwAhnJcvpUMAAsMIvEPSfUYKn01z2nmfS6e3Sbq/V6kdvWYrR0kJEEAIEwgSJkIgYwI2dXj4SOE7SdL+gdlcTpJtpncTK0QDB...AEIBCcAEIYPAQYAAEIQAACIQkghCHpUzcEIAABCAQngBAGDwEGQAACEIBASAIIYUj61A0BCEAAAsEJIITBQ4ABEIAABCAQkgBCGJI+dUMAAhCAQHACCGHwEGAABCAAAQiEJIAQhqRP3RCAAAQgEJwAQhg8BBgAAQhAAAIhCSCEIelTNwQgAAEIBCeAEAYPAQZAAAIQgEBIAghhSPrUDQEIQAACwQkghMFDgAEQgAAEIBCSAEIYkj51QwACEIBAcAIIYfAQYAAEIAABCIQkgBCGpE/dEIAABCAQnABCGDwEGAABCEAAAiEJIIQh6VM3BCAAAQgEJ4AQBg8BBkAAAhCAQEgCCGFI+tQNAQhAAALBCSCEwUOAARCAAAQgEJIAQhiSPnVDAAIQgEBwAghh8BBgAAQgAAEIhCSAEIakT90QgAAEIBCcAEIYPAQYAAEIQAACIQkghCHpUzcEIAABCAQngBAGDwEGQAACEIBASAIIYUj61A0BCEAAAsEJIITBQ4ABEIAABCAQkgBCGJI+dUMAAhCAQHACCGHwEGAABCAAAQiEJIAQhqRP3RCAAAQgEJwAQhg8BBgAAQhAAAIhCSCEIfa93DMAAAEPSURBVOlTNwQgAAEIBCeAEAYPAQZAAAIQgEBIAghhSPrUDQEIQAACwQkghMFDgAEQgAAEIBCSAEIYkj51QwACEIBAcAIIYfAQYAAEIAABCIQkgBCGpE/dEIAABCAQnABCGDwEGAABCEAAAiEJIIQh6VM3BCAAAQgEJ4AQBg8BBkAAAhCAQEgCCGFI+tQNAQhAAALBCSCEwUOAARCAAAQgEJIAQhiSPnVDAAIQgEBwAghh8BBgAAQgAAEIhCSAEIakT90QgAAEIBCcAEIYPAQYAAEIQAACIQkghCHpUzcEIAABCAQngBAGDwEGQAACEIBASAIIYUj61A0BCEAAAsEJIITBQ4ABEIAABCAQksD/B/9Yyzs8dQ3rAAAAAElFTkSuQmCC\"\"\""
   ]
  },
  {
   "cell_type": "code",
   "execution_count": 33,
   "id": "52c6f521",
   "metadata": {},
   "outputs": [],
   "source": [
    "api_data = {\"contributor\":\"bob\", \"number\":5, \"URL\":test_url, \"time\":1432344.23456789}\n",
    "api_query = f\"\"\"\n",
    "INSERT INTO numbers(contributor,number, URL, time)\n",
    "VALUES ('{api_data[\"contributor\"]}', {api_data[\"number\"]}, '{str(api_data[\"URL\"])}', {api_data[\"time\"]});\n",
    "\"\"\""
   ]
  },
  {
   "cell_type": "code",
   "execution_count": 34,
   "id": "82fbbb2d",
   "metadata": {},
   "outputs": [],
   "source": [
    "\n",
    "with conn.cursor() as cur:\n",
    "    cur.execute(api_query)\n",
    "    #res = cur.fetchall()\n",
    "    conn.commit()\n",
    "    \n",
    "# crash dump should be handled by local storage?"
   ]
  },
  {
   "cell_type": "code",
   "execution_count": 36,
   "id": "7e5f694e",
   "metadata": {},
   "outputs": [
    {
     "data": {
      "text/plain": [
       "\"\\nINSERT INTO numbers(contributor,number, URL, time)\\nVALUES ('bob', 5, 'data:image/png;base64,iVBORw0KGgoAAAANSUhEUgAAAcIAAAHCCAYAAAB8GMlFAAAAAXNSR0IArs4c6QAAIABJREFUeF7tnQf4NkV1t3\\n+Bl14FBQFRsaNi78aGNUa/IBpjIxp7D2psMYoajSVG9IstsfeuiRoTlWA0lqjBAtgNNkClSREB0S/fHrJPHIbdfXb32d1p91yXl/r+Z2fOuc/M/p6ZnfI7IkEAAhCAAAQKJvA7BfuO6xCAAAQgAAEhhDQCCEAAAssQOEKS/cd/7/IeXoZ/ay0EIHAAqB4CEMiWwAMkvaVB+HyHeQ8HbgIEIHAAqB4CEMiGwPUkHSNpq4Ee8R4eCGzq7ARgaqKUBwEIlETgQklbNnCYd/AG8KZ6lCBMRZJyIACBEgj8qha+Ie/O/67B+M9cWdIJJUCL3cchwYzdF+yDAAQgMDWB8yRt1+M7n1uvCd+XJd2o/sffNEyX2hTq6u9T20x5AwkghAOBkR0CEMiawLmSdhghfD+WdICk/+fROUvSrt6//VLSTllTTMw5hDCxgGEuBCAwKQETql1GCN+ZkvaRdEGHNR+QdA/v7zZaHLqYZlKHKeySBBBCWgUEIFASgdMlXWqE8J0vaS9Jv+gJa9sGkUQEe8JbOhtCuDRx6oMABJYk8BNJe48Qvl/Xz/18pLGrBTKrxxHBkSCXeAwhXIIydUAAAksR+IGkyw8UPrPNFrTsK+mUCQy174ScHjMByKWKQAiXIk09EIDAHAS+KenqI4TPxOr6ko6d2ChEcGKgSxSHEC5BmTogAIGpCHyx3nYw9N1lU5PPqf8zlS1+OU3bJF4q6UlzVUi50xAY2pimqZVSIAABCPQj8HFJdxgx4jPh+7CkP+hXzca57Fvi7l4pP61Xlm5cOAXMSwAhnJcvpUMAAsMIvEPSfUYKn01z2nmfS6e3Sbq/V6kdvWYrR0kJEEAIEwgSJkIgYwI2dXj4SOE7SdL+gdlcTpJtpncTK0QDB...AEIBCcAEIYPAQYAAEIQAACIQkghCHpUzcEIAABCAQngBAGDwEGQAACEIBASAIIYUj61A0BCEAAAsEJIITBQ4ABEIAABCAQkgBCGJI+dUMAAhCAQHACCGHwEGAABCAAAQiEJIAQhqRP3RCAAAQgEJwAQhg8BBgAAQhAAAIhCSCEIelTNwQgAAEIBCeAEAYPAQZAAAIQgEBIAghhSPrUDQEIQAACwQkghMFDgAEQgAAEIBCSAEIYkj51QwACEIBAcAIIYfAQYAAEIAABCIQkgBCGpE/dEIAABCAQnABCGDwEGAABCEAAAiEJIIQh6VM3BCAAAQgEJ4AQBg8BBkAAAhCAQEgCCGFI+tQNAQhAAALBCSCEwUOAARCAAAQgEJIAQhiSPnVDAAIQgEBwAghh8BBgAAQgAAEIhCSAEIakT90QgAAEIBCcAEIYPAQYAAEIQAACIQkghCHpUzcEIAABCAQngBAGDwEGQAACEIBASAIIYUj61A0BCEAAAsEJIITBQ4ABEIAABCAQkgBCGJI+dUMAAhCAQHACCGHwEGAABCAAAQiEJIAQhqRP3RCAAAQgEJwAQhg8BBgAAQhAAAIhCSCEIfa93DMAAAEPSURBVOlTNwQgAAEIBCeAEAYPAQZAAAIQgEBIAghhSPrUDQEIQAACwQkghMFDgAEQgAAEIBCSAEIYkj51QwACEIBAcAIIYfAQYAAEIAABCIQkgBCGpE/dEIAABCAQnABCGDwEGAABCEAAAiEJIIQh6VM3BCAAAQgEJ4AQBg8BBkAAAhCAQEgCCGFI+tQNAQhAAALBCSCEwUOAARCAAAQgEJIAQhiSPnVDAAIQgEBwAghh8BBgAAQgAAEIhCSAEIakT90QgAAEIBCcAEIYPAQYAAEIQAACIQkghCHpUzcEIAABCAQngBAGDwEGQAACEIBASAIIYUj61A0BCEAAAsEJIITBQ4ABEIAABCAQksD/B/9Yyzs8dQ3rAAAAAElFTkSuQmCC', 1432344.23456789);\\n\""
      ]
     },
     "execution_count": 36,
     "metadata": {},
     "output_type": "execute_result"
    }
   ],
   "source": [
    "api_query"
   ]
  },
  {
   "cell_type": "code",
   "execution_count": null,
   "id": "72cfe6be",
   "metadata": {},
   "outputs": [],
   "source": []
  }
 ],
 "metadata": {
  "kernelspec": {
   "display_name": "Python 3 (ipykernel)",
   "language": "python",
   "name": "python3"
  },
  "language_info": {
   "codemirror_mode": {
    "name": "ipython",
    "version": 3
   },
   "file_extension": ".py",
   "mimetype": "text/x-python",
   "name": "python",
   "nbconvert_exporter": "python",
   "pygments_lexer": "ipython3",
   "version": "3.10.9"
  }
 },
 "nbformat": 4,
 "nbformat_minor": 5
}
