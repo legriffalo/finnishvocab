{
 "cells": [
  {
   "cell_type": "markdown",
   "id": "cd5dc9ce",
   "metadata": {},
   "source": [
    "Plan is to build a CNN model that takes canvases drawn in HTL as an API call jpeg/png\n",
    "Then runs them through a pickeled CNN Model to distinguish what the user drew.\n",
    "\n",
    "Objective:\n",
    "\n",
    "Build digit recognition model that handles png/jpeg of multi-digit numbers and then pickel for use with webpages/apps"
   ]
  },
  {
   "cell_type": "code",
   "execution_count": null,
   "id": "1a3418b3",
   "metadata": {},
   "outputs": [],
   "source": []
  }
 ],
 "metadata": {
  "kernelspec": {
   "display_name": "Python 3 (ipykernel)",
   "language": "python",
   "name": "python3"
  },
  "language_info": {
   "codemirror_mode": {
    "name": "ipython",
    "version": 3
   },
   "file_extension": ".py",
   "mimetype": "text/x-python",
   "name": "python",
   "nbconvert_exporter": "python",
   "pygments_lexer": "ipython3",
   "version": "3.10.9"
  }
 },
 "nbformat": 4,
 "nbformat_minor": 5
}
