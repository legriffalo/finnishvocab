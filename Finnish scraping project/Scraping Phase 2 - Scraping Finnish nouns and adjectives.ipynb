{
 "cells": [
  {
   "cell_type": "markdown",
   "id": "0cb7c2de",
   "metadata": {},
   "source": [
    "<hr style=' border: 5px solid red'>\n",
    "<hr style=' border: 5px solid black'>\n",
    "<hr style=' border: 5px solid red'>\n",
    "\n",
    "<h1 style=\"text-align:center;\"> Finnish scraping project</h1>\n",
    "<h3 style=\"text-align:center;\"> Phase 2: Scraping Finnish nouns and adjectives </h3>\n",
    "<hr style=' border: 5px solid red'>\n",
    "<hr style=' border: 5px solid black'>\n",
    "<hr style=' border: 5px solid red'>\n",
    "\n"
   ]
  },
  {
   "cell_type": "code",
   "execution_count": 15,
   "id": "f1483294",
   "metadata": {},
   "outputs": [],
   "source": [
    "from bs4 import BeautifulSoup as bs\n",
    "import pandas as pd\n",
    "import urllib as url\n",
    "from IPython.core.display import HTML\n",
    "import time #set sleep to avoid url blocking scraper\n",
    "import pygwalker as pyg\n",
    "import keyboard"
   ]
  },
  {
   "cell_type": "markdown",
   "id": "2bee9a74",
   "metadata": {},
   "source": [
    "<hr style=' border: 2px solid red'>\n",
    "<hr style=' border: 2px solid black'>\n",
    "<h4 style=\"text-align:center;\"> Stage 1</h4>\n",
    "<hr style=' border: 2px solid black'>\n",
    "<hr style=' border: 2px solid red'>\n",
    "\n",
    "<p> Quickly cycle through noun pages and produce csv </p>"
   ]
  },
  {
   "cell_type": "code",
   "execution_count": 2,
   "id": "f75d6295",
   "metadata": {},
   "outputs": [
    {
     "name": "stdout",
     "output_type": "stream",
     "text": [
      "1/15 completed\n",
      "2/15 completed\n",
      "3/15 completed\n",
      "4/15 completed\n",
      "5/15 completed\n",
      "6/15 completed\n",
      "7/15 completed\n",
      "8/15 completed\n",
      "9/15 completed\n",
      "10/15 completed\n",
      "11/15 completed\n",
      "12/15 completed\n",
      "13/15 completed\n",
      "14/15 completed\n",
      "15/15 completed\n"
     ]
    }
   ],
   "source": [
    "all_fin = []\n",
    "all_eng = []\n",
    "\n",
    "for i in range(1,16):\n",
    "    doc = url.request.urlopen(f'https://cooljugator.com/fin/list/{i}').read()\n",
    "    soup = bs(doc,'html.parser')\n",
    "    soup.prettify()\n",
    "    \n",
    "    uls = soup.find_all('ul')\n",
    "    \n",
    "    links = uls[0].find_all('li')\n",
    "    \n",
    "    #links = links[1:100] #limiter for testing\n",
    "    fin_nouns = [str(x).split(sep = '>')[1] for x in links]\n",
    "    fin_nouns = [str(x).split(sep = '/')[-1] for x in fin_nouns]\n",
    "    fin_nouns = [str(x).replace('\"','') for x in fin_nouns]\n",
    "    fin_nouns = [str(x).replace(\"'\",'') for x in fin_nouns]\n",
    "\n",
    "    fin_nouns = [str(x).replace('-','suffix - ') if x[0]=='-' else str(x) for x in fin_nouns]\n",
    "\n",
    "    #all_links.append(fin_nouns) #possibly replace with zip function\n",
    "    all_fin= all_fin + fin_nouns\n",
    "    \n",
    "    eng_nouns = [str(x).split(sep = '>')[3].split(sep='<')[0].split(sep = '-')[1].lstrip() for x in links]\n",
    "#   eng_nouns = [x.replace('-','suffix') for x in eng_nouns]\n",
    "   \n",
    "    all_eng= all_eng + eng_nouns\n",
    "    print(f'{i}/15 completed')\n",
    "\n"
   ]
  },
  {
   "cell_type": "code",
   "execution_count": 3,
   "id": "8b51f047",
   "metadata": {},
   "outputs": [
    {
     "data": {
      "text/plain": [
       "44968"
      ]
     },
     "execution_count": 3,
     "metadata": {},
     "output_type": "execute_result"
    }
   ],
   "source": [
    "len(all_fin)"
   ]
  },
  {
   "cell_type": "code",
   "execution_count": 4,
   "id": "165b3845",
   "metadata": {},
   "outputs": [
    {
     "data": {
      "text/plain": [
       "'an eye'"
      ]
     },
     "execution_count": 4,
     "metadata": {},
     "output_type": "execute_result"
    }
   ],
   "source": [
    "str(links[-1]).split(sep = '>')[3].split(sep='<')[0].split(sep = '-')[1].lstrip()"
   ]
  },
  {
   "cell_type": "code",
   "execution_count": 5,
   "id": "dfed3a05",
   "metadata": {
    "scrolled": true
   },
   "outputs": [
    {
     "data": {
      "text/plain": [
       "44968"
      ]
     },
     "execution_count": 5,
     "metadata": {},
     "output_type": "execute_result"
    }
   ],
   "source": [
    "len(all_fin)"
   ]
  },
  {
   "cell_type": "code",
   "execution_count": 6,
   "id": "885c4085",
   "metadata": {},
   "outputs": [
    {
     "data": {
      "text/html": [
       "<div>\n",
       "<style scoped>\n",
       "    .dataframe tbody tr th:only-of-type {\n",
       "        vertical-align: middle;\n",
       "    }\n",
       "\n",
       "    .dataframe tbody tr th {\n",
       "        vertical-align: top;\n",
       "    }\n",
       "\n",
       "    .dataframe thead th {\n",
       "        text-align: right;\n",
       "    }\n",
       "</style>\n",
       "<table border=\"1\" class=\"dataframe\">\n",
       "  <thead>\n",
       "    <tr style=\"text-align: right;\">\n",
       "      <th></th>\n",
       "      <th>English</th>\n",
       "      <th>Finnish</th>\n",
       "    </tr>\n",
       "  </thead>\n",
       "  <tbody>\n",
       "    <tr>\n",
       "      <th>0</th>\n",
       "      <td>linguality</td>\n",
       "      <td>suffix - kielisyys</td>\n",
       "    </tr>\n",
       "    <tr>\n",
       "      <th>4</th>\n",
       "      <td>door</td>\n",
       "      <td>suffix - ovinen</td>\n",
       "    </tr>\n",
       "    <tr>\n",
       "      <th>5</th>\n",
       "      <td>gon</td>\n",
       "      <td>suffix - kulmio</td>\n",
       "    </tr>\n",
       "    <tr>\n",
       "      <th>7</th>\n",
       "      <td>suffix used in some compound</td>\n",
       "      <td>suffix - mikko</td>\n",
       "    </tr>\n",
       "    <tr>\n",
       "      <th>9</th>\n",
       "      <td>otorhinolaryngology</td>\n",
       "      <td>3</td>\n",
       "    </tr>\n",
       "    <tr>\n",
       "      <th>...</th>\n",
       "      <td>...</td>\n",
       "      <td>...</td>\n",
       "    </tr>\n",
       "    <tr>\n",
       "      <th>44962</th>\n",
       "      <td>bragging</td>\n",
       "      <td>öykkäröinti</td>\n",
       "    </tr>\n",
       "    <tr>\n",
       "      <th>44963</th>\n",
       "      <td>wafer</td>\n",
       "      <td>öylätti</td>\n",
       "    </tr>\n",
       "    <tr>\n",
       "      <th>44964</th>\n",
       "      <td>paten</td>\n",
       "      <td>öylättilautanen</td>\n",
       "    </tr>\n",
       "    <tr>\n",
       "      <th>44965</th>\n",
       "      <td>pyx</td>\n",
       "      <td>öylättirasia</td>\n",
       "    </tr>\n",
       "    <tr>\n",
       "      <th>44967</th>\n",
       "      <td>an eye</td>\n",
       "      <td>ööga</td>\n",
       "    </tr>\n",
       "  </tbody>\n",
       "</table>\n",
       "<p>35047 rows × 2 columns</p>\n",
       "</div>"
      ],
      "text/plain": [
       "                            English             Finnish\n",
       "0                        linguality  suffix - kielisyys\n",
       "4                              door     suffix - ovinen\n",
       "5                               gon     suffix - kulmio\n",
       "7      suffix used in some compound      suffix - mikko\n",
       "9               otorhinolaryngology                   3\n",
       "...                             ...                 ...\n",
       "44962                      bragging         öykkäröinti\n",
       "44963                         wafer             öylätti\n",
       "44964                         paten     öylättilautanen\n",
       "44965                           pyx        öylättirasia\n",
       "44967                        an eye                ööga\n",
       "\n",
       "[35047 rows x 2 columns]"
      ]
     },
     "execution_count": 6,
     "metadata": {},
     "output_type": "execute_result"
    }
   ],
   "source": [
    "nouns_table = pd.DataFrame({'English':all_eng, 'Finnish':all_fin})\n",
    "nouns_table[nouns_table['English'] !='thing']"
   ]
  },
  {
   "cell_type": "code",
   "execution_count": 7,
   "id": "83fad328",
   "metadata": {},
   "outputs": [],
   "source": [
    "nouns_table[nouns_table['English'] !='thing'].to_csv('./cleaneddb/finnish_nouns.csv',encoding = 'utf-8-sig', index = False)"
   ]
  },
  {
   "cell_type": "markdown",
   "id": "f3ecbf12",
   "metadata": {},
   "source": [
    "<hr style=' border: 2px solid red'>\n",
    "<hr style=' border: 2px solid black'>\n",
    "<h4 style=\"text-align:center;\"> Stage 2</h4>\n",
    "\n",
    "<hr style=' border: 2px solid black'>\n",
    "<hr style=' border: 2px solid red'>\n",
    "\n",
    "<p> Test and develop a method for scraping the adjectives </p>"
   ]
  },
  {
   "cell_type": "code",
   "execution_count": 8,
   "id": "b0ead845",
   "metadata": {},
   "outputs": [],
   "source": [
    "doc = url.request.urlopen(f'https://cooljugator.com/fia/list/all').read()\n",
    "soup = bs(doc,'html.parser')\n",
    "soup.prettify()\n",
    "\n",
    "uls = soup.find_all('ul')\n",
    "links = uls[0].find_all('li')"
   ]
  },
  {
   "cell_type": "code",
   "execution_count": 9,
   "id": "825919c4",
   "metadata": {},
   "outputs": [
    {
     "data": {
      "text/plain": [
       "'<li class=\"item\"><a href=\"/fia/-puheinen\">-puheinen</a> - some</li>'"
      ]
     },
     "execution_count": 9,
     "metadata": {},
     "output_type": "execute_result"
    }
   ],
   "source": [
    "str(links[1])"
   ]
  },
  {
   "cell_type": "code",
   "execution_count": 10,
   "id": "3a80945d",
   "metadata": {},
   "outputs": [
    {
     "data": {
      "text/plain": [
       "'lehtinen'"
      ]
     },
     "execution_count": 10,
     "metadata": {},
     "output_type": "execute_result"
    }
   ],
   "source": [
    "str(links[0]).split(sep = '>')[2].split(sep='<')[0].replace('-','').lstrip()"
   ]
  },
  {
   "cell_type": "code",
   "execution_count": 11,
   "id": "560d79e8",
   "metadata": {},
   "outputs": [
    {
     "data": {
      "text/plain": [
       "'leafed'"
      ]
     },
     "execution_count": 11,
     "metadata": {},
     "output_type": "execute_result"
    }
   ],
   "source": [
    "str(links[0]).split(sep = '>')[3].split(sep='<')[0].replace('-','').lstrip()"
   ]
  },
  {
   "cell_type": "markdown",
   "id": "9ba64116",
   "metadata": {},
   "source": [
    "<hr style=' border: 2px solid red'>\n",
    "<hr style=' border: 2px solid black'>\n",
    "<h4 style=\"text-align:center;\"> Stage 3</h4>\n",
    "\n",
    "<hr style=' border: 2px solid black'>\n",
    "<hr style=' border: 2px solid red'>\n",
    "\n",
    "<p> Ready to go, now scrape and compile in to a csv </p>"
   ]
  },
  {
   "cell_type": "code",
   "execution_count": 12,
   "id": "61cfea56",
   "metadata": {},
   "outputs": [],
   "source": [
    "doc = url.request.urlopen(f'https://cooljugator.com/fia/list/all').read()\n",
    "soup = bs(doc,'html.parser')\n",
    "soup.prettify()\n",
    "\n",
    "uls = soup.find_all('ul')\n",
    "links = uls[0].find_all('li')\n",
    "\n",
    "fin_ad = [str(x).split(sep = '>')[2].split(sep='<')[0].replace('-','').lstrip() for x in links]\n",
    "eng_ad = [str(x).split(sep = '>')[3].split(sep='<')[0].replace('-','').lstrip() for x in links]"
   ]
  },
  {
   "cell_type": "code",
   "execution_count": 13,
   "id": "c632caa6",
   "metadata": {},
   "outputs": [],
   "source": [
    "adj_table =pd.DataFrame({'English':eng_ad, 'Finnish':fin_ad})\n",
    "\n",
    "adj_table.head()\n",
    "\n",
    "adj_table.to_csv('./cleaneddb/finnish_adjectives.csv',encoding = 'utf-8-sig', index = False)"
   ]
  },
  {
   "cell_type": "markdown",
   "id": "7d0dada9",
   "metadata": {},
   "source": [
    "<hr style=' border: 2px solid red'>\n",
    "<hr style=' border: 2px solid black'>\n",
    "<h4 style=\"text-align:center;\"> Now to move on </h4>\n",
    "\n",
    "<hr style=' border: 2px solid black'>\n",
    "<hr style=' border: 2px solid red'>\n",
    "\n",
    "<p> Next step is to map the importance of learning these words </p>"
   ]
  },
  {
   "cell_type": "code",
   "execution_count": 14,
   "id": "a4b4200b",
   "metadata": {},
   "outputs": [
    {
     "data": {
      "text/html": [
       "<style>\n",
       ".rendered_html p{font-size:1.2em;}\n",
       ".rendered_html h4{font-size:1.5em;}\n",
       "</style>"
      ],
      "text/plain": [
       "<IPython.core.display.HTML object>"
      ]
     },
     "execution_count": 14,
     "metadata": {},
     "output_type": "execute_result"
    }
   ],
   "source": [
    "# change styling in notebook\n",
    "HTML(\"\"\"<style>\n",
    ".rendered_html p{font-size:1.2em;}\n",
    ".rendered_html h4{font-size:1.5em;}\n",
    "</style>\"\"\")"
   ]
  }
 ],
 "metadata": {
  "kernelspec": {
   "display_name": "Python 3 (ipykernel)",
   "language": "python",
   "name": "python3"
  },
  "language_info": {
   "codemirror_mode": {
    "name": "ipython",
    "version": 3
   },
   "file_extension": ".py",
   "mimetype": "text/x-python",
   "name": "python",
   "nbconvert_exporter": "python",
   "pygments_lexer": "ipython3",
   "version": "3.10.9"
  }
 },
 "nbformat": 4,
 "nbformat_minor": 5
}
