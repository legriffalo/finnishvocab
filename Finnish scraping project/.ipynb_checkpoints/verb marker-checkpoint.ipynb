{
 "cells": [
  {
   "cell_type": "code",
   "execution_count": null,
   "id": "bc489fe3",
   "metadata": {},
   "outputs": [],
   "source": [
    "import keyboard\n",
    "import pandas as pd\n",
    "import os\n",
    "from IPython.core.display import HTML\n",
    "import time"
   ]
  },
  {
   "cell_type": "code",
   "execution_count": null,
   "id": "d1501e04",
   "metadata": {},
   "outputs": [],
   "source": [
    "df = pd.read_csv('./finnish verbs.csv')"
   ]
  },
  {
   "cell_type": "code",
   "execution_count": null,
   "id": "ea30eba5",
   "metadata": {},
   "outputs": [],
   "source": [
    "def check_verb(start, df):\n",
    "    flag = 1\n",
    "    i = start\n",
    "    while flag:\n",
    "        # print(f'check for relevance: \\n'\n",
    "        display(df.iloc[[i]])\n",
    "        if keyboard.read_key() == 'left':\n",
    "            df.at[i,'relevance'] = 1\n",
    "        if keyboard.read_key() == 'right':\n",
    "            df.at[i,'relevance'] = 0\n",
    "        if keyboard.read_key() == 'esc':\n",
    "            break\n",
    "        display(clear = True)\n",
    "        \n",
    "        print(f'Assigned relevance') \n",
    "        \n",
    "        display(df.iloc[[i]])\n",
    "        time.sleep(0.5)\n",
    "        keyboard.read_key()\n",
    "            \n",
    "        \n",
    "        display(clear = True)\n",
    "        \n",
    "        i+=1\n",
    "        \n",
    "    return i\n",
    "        "
   ]
  },
  {
   "cell_type": "code",
   "execution_count": 4,
   "id": "2872d482",
   "metadata": {},
   "outputs": [
    {
     "data": {
      "text/html": [
       "<div>\n",
       "<style scoped>\n",
       "    .dataframe tbody tr th:only-of-type {\n",
       "        vertical-align: middle;\n",
       "    }\n",
       "\n",
       "    .dataframe tbody tr th {\n",
       "        vertical-align: top;\n",
       "    }\n",
       "\n",
       "    .dataframe thead th {\n",
       "        text-align: right;\n",
       "    }\n",
       "</style>\n",
       "<table border=\"1\" class=\"dataframe\">\n",
       "  <thead>\n",
       "    <tr style=\"text-align: right;\">\n",
       "      <th></th>\n",
       "      <th>Finnish infinitive</th>\n",
       "      <th>English inifinitive</th>\n",
       "      <th>relevance</th>\n",
       "    </tr>\n",
       "  </thead>\n",
       "  <tbody>\n",
       "    <tr>\n",
       "      <th>28</th>\n",
       "      <td>adsorboitua</td>\n",
       "      <td>become</td>\n",
       "      <td>NaN</td>\n",
       "    </tr>\n",
       "  </tbody>\n",
       "</table>\n",
       "</div>"
      ],
      "text/plain": [
       "   Finnish infinitive English inifinitive  relevance\n",
       "28        adsorboitua              become        NaN"
      ]
     },
     "metadata": {},
     "output_type": "display_data"
    },
    {
     "data": {
      "text/plain": [
       "28"
      ]
     },
     "execution_count": 4,
     "metadata": {},
     "output_type": "execute_result"
    }
   ],
   "source": [
    "check_verb(0,df)"
   ]
  },
  {
   "cell_type": "code",
   "execution_count": null,
   "id": "e29daeaf",
   "metadata": {},
   "outputs": [],
   "source": [
    "help(display)"
   ]
  },
  {
   "cell_type": "code",
   "execution_count": null,
   "id": "1b23179a",
   "metadata": {},
   "outputs": [],
   "source": [
    "df.at[1,'relevance']='pooh'"
   ]
  },
  {
   "cell_type": "code",
   "execution_count": null,
   "id": "ba471439",
   "metadata": {},
   "outputs": [],
   "source": [
    "time.sleep(1)\n",
    "keyboard.read_key()\n"
   ]
  },
  {
   "cell_type": "code",
   "execution_count": null,
   "id": "8e34a4f1",
   "metadata": {},
   "outputs": [],
   "source": [
    "# keys = [\n",
    "#     \"down\",\n",
    "#     \"up\",\n",
    "#     \"left\",\n",
    "#     \"right\"\n",
    "# ]\n",
    "\n",
    "# def kbdCallback(e):\n",
    "#     found = False\n",
    "#     for key in keys:\n",
    "#         if key == keyboard.normalize_name(e.name):\n",
    "#             print(f\"{key} was pressed\")\n",
    "#             found = True\n",
    "#             # work your magic\n",
    "\n",
    "# #     if found == True:\n",
    "# #         if e.name == \"left\":\n",
    "# #             if keyboard.is_pressed(\"4\"):\n",
    "# #                 print(\"4 & left arrow were pressed together!\")\n",
    "# #                 # work your magic\n",
    "\n",
    "# keyboard.on_press(kbdCallback)\n",
    "# # same as keyboard.on_press_key, but it does this for EVERY ke4y4"
   ]
  }
 ],
 "metadata": {
  "kernelspec": {
   "display_name": "Python 3 (ipykernel)",
   "language": "python",
   "name": "python3"
  },
  "language_info": {
   "codemirror_mode": {
    "name": "ipython",
    "version": 3
   },
   "file_extension": ".py",
   "mimetype": "text/x-python",
   "name": "python",
   "nbconvert_exporter": "python",
   "pygments_lexer": "ipython3",
   "version": "3.10.9"
  }
 },
 "nbformat": 4,
 "nbformat_minor": 5
}
