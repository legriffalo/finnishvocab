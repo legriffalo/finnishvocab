{
 "cells": [
  {
   "cell_type": "markdown",
   "id": "bd800669",
   "metadata": {},
   "source": [
    "<hr style=' border: 5px solid blue'>\n",
    "<hr style=' border: 5px solid black'>\n",
    "<hr style=' border: 5px solid blue'>\n",
    "\n",
    "<h1 style=\"text-align:center;\"> Building Finnish vocab database</h1>\n",
    "<h3 style=\"text-align:center;\"> Phase 2: Using psycoPG2 to build the database </h3>\n",
    "\n",
    "<hr style=' border: 5px solid blue'>\n",
    "<hr style=' border: 5px solid black'>\n",
    "<hr style=' border: 5px solid blue'>"
   ]
  },
  {
   "cell_type": "code",
   "execution_count": 1,
   "id": "65049c57",
   "metadata": {},
   "outputs": [],
   "source": [
    "import pandas as pd\n",
    "import psycopg2 as psyco"
   ]
  },
  {
   "cell_type": "code",
   "execution_count": null,
   "id": "7dc9e186",
   "metadata": {},
   "outputs": [],
   "source": []
  }
 ],
 "metadata": {
  "kernelspec": {
   "display_name": "Python 3 (ipykernel)",
   "language": "python",
   "name": "python3"
  },
  "language_info": {
   "codemirror_mode": {
    "name": "ipython",
    "version": 3
   },
   "file_extension": ".py",
   "mimetype": "text/x-python",
   "name": "python",
   "nbconvert_exporter": "python",
   "pygments_lexer": "ipython3",
   "version": "3.10.9"
  }
 },
 "nbformat": 4,
 "nbformat_minor": 5
}
